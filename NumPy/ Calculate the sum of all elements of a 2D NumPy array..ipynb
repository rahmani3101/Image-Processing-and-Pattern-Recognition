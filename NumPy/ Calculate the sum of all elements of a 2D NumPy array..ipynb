{
 "cells": [
  {
   "cell_type": "markdown",
   "id": "d24dc6eb-4279-46a8-86a2-73c35f7db264",
   "metadata": {},
   "source": [
    " Calculate the sum of all elements of a 2D NumPy array."
   ]
  },
  {
   "cell_type": "code",
   "execution_count": 1,
   "id": "806aff20-c6c8-4cac-a1dc-08474ee86efd",
   "metadata": {},
   "outputs": [],
   "source": [
    "import numpy as np"
   ]
  },
  {
   "cell_type": "code",
   "execution_count": 2,
   "id": "756e4320-d3f9-4e1f-bfcb-a4c64d5730ae",
   "metadata": {},
   "outputs": [],
   "source": [
    "array = np.array([58,9,5,9,7,5,55,45,676,4])"
   ]
  },
  {
   "cell_type": "code",
   "execution_count": 3,
   "id": "1fab64f8-90f7-44c5-9848-a945e5c60f0a",
   "metadata": {},
   "outputs": [],
   "source": [
    "sum = np.sum(array)"
   ]
  },
  {
   "cell_type": "code",
   "execution_count": 4,
   "id": "b845c162-5d2c-4791-86d1-cd11d6b887ae",
   "metadata": {},
   "outputs": [
    {
     "name": "stdout",
     "output_type": "stream",
     "text": [
      "873\n"
     ]
    }
   ],
   "source": [
    "print(sum)"
   ]
  }
 ],
 "metadata": {
  "kernelspec": {
   "display_name": "Python 3 (ipykernel)",
   "language": "python",
   "name": "python3"
  },
  "language_info": {
   "codemirror_mode": {
    "name": "ipython",
    "version": 3
   },
   "file_extension": ".py",
   "mimetype": "text/x-python",
   "name": "python",
   "nbconvert_exporter": "python",
   "pygments_lexer": "ipython3",
   "version": "3.12.2"
  }
 },
 "nbformat": 4,
 "nbformat_minor": 5
}
