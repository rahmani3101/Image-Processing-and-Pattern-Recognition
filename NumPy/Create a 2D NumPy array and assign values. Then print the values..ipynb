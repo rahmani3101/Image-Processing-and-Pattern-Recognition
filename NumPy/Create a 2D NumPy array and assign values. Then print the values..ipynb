{
 "cells": [
  {
   "cell_type": "markdown",
   "id": "8063cba8-4d57-403c-9fb4-98db0c3619ea",
   "metadata": {},
   "source": [
    "Create a 2D NumPy array and assign values. Then print the values."
   ]
  },
  {
   "cell_type": "code",
   "execution_count": 1,
   "id": "52fdc1df-37fb-4b7c-a08a-216518e9df2f",
   "metadata": {},
   "outputs": [],
   "source": [
    "import numpy as np "
   ]
  },
  {
   "cell_type": "code",
   "execution_count": 3,
   "id": "eb97863a-426d-402f-8222-473dd70cdbda",
   "metadata": {},
   "outputs": [],
   "source": [
    "array = np.array([[58,98,89,2585,8],[78,5,69,869,8755],[78,585,485,5,87]])"
   ]
  },
  {
   "cell_type": "code",
   "execution_count": 4,
   "id": "faac403c-b8af-4cb2-ab20-c3992d56b972",
   "metadata": {},
   "outputs": [
    {
     "name": "stdout",
     "output_type": "stream",
     "text": [
      "[[  58   98   89 2585    8]\n",
      " [  78    5   69  869 8755]\n",
      " [  78  585  485    5   87]]\n"
     ]
    }
   ],
   "source": [
    "print(array)"
   ]
  }
 ],
 "metadata": {
  "kernelspec": {
   "display_name": "Python 3 (ipykernel)",
   "language": "python",
   "name": "python3"
  },
  "language_info": {
   "codemirror_mode": {
    "name": "ipython",
    "version": 3
   },
   "file_extension": ".py",
   "mimetype": "text/x-python",
   "name": "python",
   "nbconvert_exporter": "python",
   "pygments_lexer": "ipython3",
   "version": "3.12.2"
  }
 },
 "nbformat": 4,
 "nbformat_minor": 5
}
