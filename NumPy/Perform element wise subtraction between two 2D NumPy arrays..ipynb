{
 "cells": [
  {
   "cell_type": "markdown",
   "id": "4ced14af-26d5-404b-9f94-4a7361950c28",
   "metadata": {},
   "source": [
    "Perform element wise sum between two 2D NumPy arrays."
   ]
  },
  {
   "cell_type": "code",
   "execution_count": 7,
   "id": "f25c1bea-1c0f-438b-8d67-5b8372eac52a",
   "metadata": {},
   "outputs": [],
   "source": [
    "import numpy as np"
   ]
  },
  {
   "cell_type": "code",
   "execution_count": 12,
   "id": "8bbf9f00-c6c8-4b3e-925d-65c5c970436c",
   "metadata": {},
   "outputs": [],
   "source": [
    "b = np.array([85,8,96,7,25,56565,455,7,33])\n",
    "a = np.array([87968,8,5,8,585,856,8568,877,77])\n"
   ]
  },
  {
   "cell_type": "code",
   "execution_count": 13,
   "id": "aa74d0f2-5e82-434a-b007-f03dd06df42d",
   "metadata": {},
   "outputs": [],
   "source": [
    "diff = a - b;"
   ]
  },
  {
   "cell_type": "code",
   "execution_count": 14,
   "id": "db4d00ba-c8bd-41ba-ae7e-c16c1f3ed19c",
   "metadata": {},
   "outputs": [
    {
     "name": "stdout",
     "output_type": "stream",
     "text": [
      "[ 87883      0    -91      1    560 -55709   8113    870     44]\n"
     ]
    }
   ],
   "source": [
    "print(diff)"
   ]
  }
 ],
 "metadata": {
  "kernelspec": {
   "display_name": "Python 3 (ipykernel)",
   "language": "python",
   "name": "python3"
  },
  "language_info": {
   "codemirror_mode": {
    "name": "ipython",
    "version": 3
   },
   "file_extension": ".py",
   "mimetype": "text/x-python",
   "name": "python",
   "nbconvert_exporter": "python",
   "pygments_lexer": "ipython3",
   "version": "3.12.2"
  }
 },
 "nbformat": 4,
 "nbformat_minor": 5
}
