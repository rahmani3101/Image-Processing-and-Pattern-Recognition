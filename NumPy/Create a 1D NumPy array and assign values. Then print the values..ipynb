{
 "cells": [
  {
   "cell_type": "markdown",
   "id": "e9ad0060-6a92-4b69-838d-c9f5bc57cb58",
   "metadata": {},
   "source": [
    "Create a 1D NumPy array and assign values. Then print the values."
   ]
  },
  {
   "cell_type": "code",
   "execution_count": 1,
   "id": "e4283de2-c1ad-4099-b720-5109d57926dc",
   "metadata": {},
   "outputs": [],
   "source": [
    "import numpy as np"
   ]
  },
  {
   "cell_type": "code",
   "execution_count": 2,
   "id": "00c15b07-ec70-4652-a533-05f679deed98",
   "metadata": {},
   "outputs": [],
   "source": [
    "array = np.array([1,5,78,3,5,7,9])"
   ]
  },
  {
   "cell_type": "code",
   "execution_count": 3,
   "id": "4265c791-4b6c-4cad-9580-3ecc7bdef073",
   "metadata": {},
   "outputs": [
    {
     "name": "stdout",
     "output_type": "stream",
     "text": [
      "[ 1  5 78  3  5  7  9]\n"
     ]
    }
   ],
   "source": [
    "print(array)"
   ]
  }
 ],
 "metadata": {
  "kernelspec": {
   "display_name": "falcon",
   "language": "python",
   "name": "falcon"
  },
  "language_info": {
   "codemirror_mode": {
    "name": "ipython",
    "version": 3
   },
   "file_extension": ".py",
   "mimetype": "text/x-python",
   "name": "python",
   "nbconvert_exporter": "python",
   "pygments_lexer": "ipython3",
   "version": "3.12.2"
  }
 },
 "nbformat": 4,
 "nbformat_minor": 5
}
