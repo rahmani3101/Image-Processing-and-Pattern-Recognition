{
 "cells": [
  {
   "cell_type": "markdown",
   "id": "1ee3e60d-9b69-47ff-b633-539f47809247",
   "metadata": {},
   "source": [
    "Perform matrix multiplication between two 2D NumPy arrays"
   ]
  },
  {
   "cell_type": "code",
   "execution_count": 26,
   "id": "1d6a5f02-3b63-46b2-b675-e8feb8c8a259",
   "metadata": {},
   "outputs": [],
   "source": [
    "import numpy as np"
   ]
  },
  {
   "cell_type": "code",
   "execution_count": 27,
   "id": "0c1cb9e2-b7eb-4a42-afa2-203b0c00797b",
   "metadata": {},
   "outputs": [
    {
     "name": "stdout",
     "output_type": "stream",
     "text": [
      "Array 1 : \n",
      " [[2 4 4]\n",
      " [3 3 6]\n",
      " [8 9 6]]\n"
     ]
    }
   ],
   "source": [
    "array1 = np.array([[2,4,4],[3,3,6],[8,9,6]])\n",
    "\n",
    "print(\"Array 1 : \\n\",array1)"
   ]
  },
  {
   "cell_type": "code",
   "execution_count": 28,
   "id": "2282e3e8-5413-4e17-bda0-5bcf4ef1117c",
   "metadata": {},
   "outputs": [
    {
     "name": "stdout",
     "output_type": "stream",
     "text": [
      "Array 2 \n",
      "  [[8 5 2]\n",
      " [9 6 4]\n",
      " [2 4 6]]\n"
     ]
    }
   ],
   "source": [
    "array2 = np.array([[8,5,2],[9,6,4],[2,4,6]]);\n",
    "\n",
    "print(\"Array 2 \\n \",array2)"
   ]
  },
  {
   "cell_type": "code",
   "execution_count": 29,
   "id": "749e1512-fc92-4d07-a39f-b604cd97a0c1",
   "metadata": {},
   "outputs": [],
   "source": [
    "matrix_multiplication = np.matmul( array1, array2)"
   ]
  },
  {
   "cell_type": "code",
   "execution_count": 30,
   "id": "08e52c34-ba58-4f4b-acb4-4b15ef1bbcd0",
   "metadata": {},
   "outputs": [
    {
     "name": "stdout",
     "output_type": "stream",
     "text": [
      "Resultant Matrix \n",
      "  [[ 60  50  44]\n",
      " [ 63  57  54]\n",
      " [157 118  88]]\n"
     ]
    }
   ],
   "source": [
    "print (\"Resultant Matrix \\n \" ,matrix_multiplication)"
   ]
  }
 ],
 "metadata": {
  "kernelspec": {
   "display_name": "Python 3 (ipykernel)",
   "language": "python",
   "name": "python3"
  },
  "language_info": {
   "codemirror_mode": {
    "name": "ipython",
    "version": 3
   },
   "file_extension": ".py",
   "mimetype": "text/x-python",
   "name": "python",
   "nbconvert_exporter": "python",
   "pygments_lexer": "ipython3",
   "version": "3.12.2"
  }
 },
 "nbformat": 4,
 "nbformat_minor": 5
}
